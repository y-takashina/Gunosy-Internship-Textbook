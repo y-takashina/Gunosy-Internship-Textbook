{
 "cells": [
  {
   "cell_type": "code",
   "execution_count": 1,
   "metadata": {
    "collapsed": true
   },
   "outputs": [],
   "source": [
    "import numpy as np\n",
    "import sklearn.metrics\n",
    "import sklearn.linear_model\n",
    "import sklearn.ensemble\n",
    "import pandas as pd\n",
    "import matplotlib.pyplot as plt\n",
    "%matplotlib inline\n",
    "import seaborn as sns\n",
    "sns.set_style('ticks')"
   ]
  },
  {
   "cell_type": "code",
   "execution_count": 2,
   "metadata": {},
   "outputs": [
    {
     "data": {
      "text/html": [
       "<div>\n",
       "<style>\n",
       "    .dataframe thead tr:only-child th {\n",
       "        text-align: right;\n",
       "    }\n",
       "\n",
       "    .dataframe thead th {\n",
       "        text-align: left;\n",
       "    }\n",
       "\n",
       "    .dataframe tbody tr th {\n",
       "        vertical-align: top;\n",
       "    }\n",
       "</style>\n",
       "<table border=\"1\" class=\"dataframe\">\n",
       "  <thead>\n",
       "    <tr style=\"text-align: right;\">\n",
       "      <th></th>\n",
       "      <th>V1</th>\n",
       "      <th>V2</th>\n",
       "      <th>V3</th>\n",
       "      <th>V4</th>\n",
       "      <th>V5</th>\n",
       "      <th>V6</th>\n",
       "      <th>V7</th>\n",
       "      <th>V8</th>\n",
       "      <th>V9</th>\n",
       "      <th>V10</th>\n",
       "      <th>V11</th>\n",
       "      <th>V12</th>\n",
       "      <th>V13</th>\n",
       "      <th>V14</th>\n",
       "      <th>Amount</th>\n",
       "      <th>Class</th>\n",
       "    </tr>\n",
       "  </thead>\n",
       "  <tbody>\n",
       "    <tr>\n",
       "      <th>0</th>\n",
       "      <td>0.831314</td>\n",
       "      <td>-0.432472</td>\n",
       "      <td>-0.049039</td>\n",
       "      <td>0.901758</td>\n",
       "      <td>-0.487028</td>\n",
       "      <td>0.343540</td>\n",
       "      <td>-0.560537</td>\n",
       "      <td>0.205336</td>\n",
       "      <td>0.782904</td>\n",
       "      <td>0.220247</td>\n",
       "      <td>0.738105</td>\n",
       "      <td>1.133737</td>\n",
       "      <td>0.293355</td>\n",
       "      <td>-0.047399</td>\n",
       "      <td>0.220868</td>\n",
       "      <td>0</td>\n",
       "    </tr>\n",
       "    <tr>\n",
       "      <th>1</th>\n",
       "      <td>0.361998</td>\n",
       "      <td>-1.454860</td>\n",
       "      <td>-0.662910</td>\n",
       "      <td>0.770255</td>\n",
       "      <td>-0.965559</td>\n",
       "      <td>-0.298392</td>\n",
       "      <td>0.284656</td>\n",
       "      <td>-0.229829</td>\n",
       "      <td>0.784164</td>\n",
       "      <td>-0.213548</td>\n",
       "      <td>-0.653015</td>\n",
       "      <td>0.611788</td>\n",
       "      <td>0.889271</td>\n",
       "      <td>-0.026870</td>\n",
       "      <td>2.317812</td>\n",
       "      <td>0</td>\n",
       "    </tr>\n",
       "    <tr>\n",
       "      <th>2</th>\n",
       "      <td>0.636669</td>\n",
       "      <td>0.167194</td>\n",
       "      <td>0.047262</td>\n",
       "      <td>0.805431</td>\n",
       "      <td>-0.216461</td>\n",
       "      <td>-0.832227</td>\n",
       "      <td>0.211087</td>\n",
       "      <td>-0.149383</td>\n",
       "      <td>0.130334</td>\n",
       "      <td>0.068404</td>\n",
       "      <td>-0.679350</td>\n",
       "      <td>-0.769682</td>\n",
       "      <td>-1.879475</td>\n",
       "      <td>0.874865</td>\n",
       "      <td>-0.315146</td>\n",
       "      <td>0</td>\n",
       "    </tr>\n",
       "    <tr>\n",
       "      <th>3</th>\n",
       "      <td>0.953572</td>\n",
       "      <td>-0.081125</td>\n",
       "      <td>-1.585880</td>\n",
       "      <td>0.790444</td>\n",
       "      <td>0.661770</td>\n",
       "      <td>-0.584282</td>\n",
       "      <td>0.756169</td>\n",
       "      <td>-0.372009</td>\n",
       "      <td>-0.021283</td>\n",
       "      <td>0.292584</td>\n",
       "      <td>-1.691218</td>\n",
       "      <td>-0.416605</td>\n",
       "      <td>-0.408600</td>\n",
       "      <td>0.919810</td>\n",
       "      <td>0.220868</td>\n",
       "      <td>0</td>\n",
       "    </tr>\n",
       "    <tr>\n",
       "      <th>4</th>\n",
       "      <td>-1.881063</td>\n",
       "      <td>1.933660</td>\n",
       "      <td>-0.934299</td>\n",
       "      <td>-0.027952</td>\n",
       "      <td>-1.532906</td>\n",
       "      <td>-0.533383</td>\n",
       "      <td>-1.347156</td>\n",
       "      <td>2.364144</td>\n",
       "      <td>-0.488517</td>\n",
       "      <td>-0.149267</td>\n",
       "      <td>0.891399</td>\n",
       "      <td>1.105027</td>\n",
       "      <td>-0.896903</td>\n",
       "      <td>1.668861</td>\n",
       "      <td>-0.268631</td>\n",
       "      <td>0</td>\n",
       "    </tr>\n",
       "  </tbody>\n",
       "</table>\n",
       "</div>"
      ],
      "text/plain": [
       "         V1        V2        V3        V4        V5        V6        V7  \\\n",
       "0  0.831314 -0.432472 -0.049039  0.901758 -0.487028  0.343540 -0.560537   \n",
       "1  0.361998 -1.454860 -0.662910  0.770255 -0.965559 -0.298392  0.284656   \n",
       "2  0.636669  0.167194  0.047262  0.805431 -0.216461 -0.832227  0.211087   \n",
       "3  0.953572 -0.081125 -1.585880  0.790444  0.661770 -0.584282  0.756169   \n",
       "4 -1.881063  1.933660 -0.934299 -0.027952 -1.532906 -0.533383 -1.347156   \n",
       "\n",
       "         V8        V9       V10       V11       V12       V13       V14  \\\n",
       "0  0.205336  0.782904  0.220247  0.738105  1.133737  0.293355 -0.047399   \n",
       "1 -0.229829  0.784164 -0.213548 -0.653015  0.611788  0.889271 -0.026870   \n",
       "2 -0.149383  0.130334  0.068404 -0.679350 -0.769682 -1.879475  0.874865   \n",
       "3 -0.372009 -0.021283  0.292584 -1.691218 -0.416605 -0.408600  0.919810   \n",
       "4  2.364144 -0.488517 -0.149267  0.891399  1.105027 -0.896903  1.668861   \n",
       "\n",
       "     Amount  Class  \n",
       "0  0.220868      0  \n",
       "1  2.317812      0  \n",
       "2 -0.315146      0  \n",
       "3  0.220868      0  \n",
       "4 -0.268631      0  "
      ]
     },
     "execution_count": 2,
     "metadata": {},
     "output_type": "execute_result"
    }
   ],
   "source": [
    "df_train = pd.read_csv('train.csv', index_col=False)\n",
    "df_test = pd.read_csv('test.csv', index_col=False)\n",
    "df_train[:5]"
   ]
  },
  {
   "cell_type": "code",
   "execution_count": 3,
   "metadata": {},
   "outputs": [
    {
     "name": "stdout",
     "output_type": "stream",
     "text": [
      "0: 227450\n",
      "1: 395\n",
      "total: 227845\n"
     ]
    }
   ],
   "source": [
    "print('0: %d\\n1: %d' % tuple(df_train['Class'].value_counts()))\n",
    "print('total: %d' % len(df_train))"
   ]
  },
  {
   "cell_type": "code",
   "execution_count": 4,
   "metadata": {},
   "outputs": [
    {
     "data": {
      "text/html": [
       "<div>\n",
       "<style>\n",
       "    .dataframe thead tr:only-child th {\n",
       "        text-align: right;\n",
       "    }\n",
       "\n",
       "    .dataframe thead th {\n",
       "        text-align: left;\n",
       "    }\n",
       "\n",
       "    .dataframe tbody tr th {\n",
       "        vertical-align: top;\n",
       "    }\n",
       "</style>\n",
       "<table border=\"1\" class=\"dataframe\">\n",
       "  <thead>\n",
       "    <tr style=\"text-align: right;\">\n",
       "      <th></th>\n",
       "      <th>V1</th>\n",
       "      <th>V2</th>\n",
       "      <th>V3</th>\n",
       "      <th>V4</th>\n",
       "      <th>V5</th>\n",
       "      <th>V6</th>\n",
       "      <th>V7</th>\n",
       "      <th>V8</th>\n",
       "      <th>V9</th>\n",
       "      <th>V10</th>\n",
       "      <th>V11</th>\n",
       "      <th>V12</th>\n",
       "      <th>V13</th>\n",
       "      <th>V14</th>\n",
       "    </tr>\n",
       "  </thead>\n",
       "  <tbody>\n",
       "    <tr>\n",
       "      <th>0</th>\n",
       "      <td>0.831314</td>\n",
       "      <td>-0.432472</td>\n",
       "      <td>-0.049039</td>\n",
       "      <td>0.901758</td>\n",
       "      <td>-0.487028</td>\n",
       "      <td>0.343540</td>\n",
       "      <td>-0.560537</td>\n",
       "      <td>0.205336</td>\n",
       "      <td>0.782904</td>\n",
       "      <td>0.220247</td>\n",
       "      <td>0.738105</td>\n",
       "      <td>1.133737</td>\n",
       "      <td>0.293355</td>\n",
       "      <td>-0.047399</td>\n",
       "    </tr>\n",
       "    <tr>\n",
       "      <th>1</th>\n",
       "      <td>0.361998</td>\n",
       "      <td>-1.454860</td>\n",
       "      <td>-0.662910</td>\n",
       "      <td>0.770255</td>\n",
       "      <td>-0.965559</td>\n",
       "      <td>-0.298392</td>\n",
       "      <td>0.284656</td>\n",
       "      <td>-0.229829</td>\n",
       "      <td>0.784164</td>\n",
       "      <td>-0.213548</td>\n",
       "      <td>-0.653015</td>\n",
       "      <td>0.611788</td>\n",
       "      <td>0.889271</td>\n",
       "      <td>-0.026870</td>\n",
       "    </tr>\n",
       "    <tr>\n",
       "      <th>2</th>\n",
       "      <td>0.636669</td>\n",
       "      <td>0.167194</td>\n",
       "      <td>0.047262</td>\n",
       "      <td>0.805431</td>\n",
       "      <td>-0.216461</td>\n",
       "      <td>-0.832227</td>\n",
       "      <td>0.211087</td>\n",
       "      <td>-0.149383</td>\n",
       "      <td>0.130334</td>\n",
       "      <td>0.068404</td>\n",
       "      <td>-0.679350</td>\n",
       "      <td>-0.769682</td>\n",
       "      <td>-1.879475</td>\n",
       "      <td>0.874865</td>\n",
       "    </tr>\n",
       "    <tr>\n",
       "      <th>3</th>\n",
       "      <td>0.953572</td>\n",
       "      <td>-0.081125</td>\n",
       "      <td>-1.585880</td>\n",
       "      <td>0.790444</td>\n",
       "      <td>0.661770</td>\n",
       "      <td>-0.584282</td>\n",
       "      <td>0.756169</td>\n",
       "      <td>-0.372009</td>\n",
       "      <td>-0.021283</td>\n",
       "      <td>0.292584</td>\n",
       "      <td>-1.691218</td>\n",
       "      <td>-0.416605</td>\n",
       "      <td>-0.408600</td>\n",
       "      <td>0.919810</td>\n",
       "    </tr>\n",
       "    <tr>\n",
       "      <th>4</th>\n",
       "      <td>-1.881063</td>\n",
       "      <td>1.933660</td>\n",
       "      <td>-0.934299</td>\n",
       "      <td>-0.027952</td>\n",
       "      <td>-1.532906</td>\n",
       "      <td>-0.533383</td>\n",
       "      <td>-1.347156</td>\n",
       "      <td>2.364144</td>\n",
       "      <td>-0.488517</td>\n",
       "      <td>-0.149267</td>\n",
       "      <td>0.891399</td>\n",
       "      <td>1.105027</td>\n",
       "      <td>-0.896903</td>\n",
       "      <td>1.668861</td>\n",
       "    </tr>\n",
       "  </tbody>\n",
       "</table>\n",
       "</div>"
      ],
      "text/plain": [
       "         V1        V2        V3        V4        V5        V6        V7  \\\n",
       "0  0.831314 -0.432472 -0.049039  0.901758 -0.487028  0.343540 -0.560537   \n",
       "1  0.361998 -1.454860 -0.662910  0.770255 -0.965559 -0.298392  0.284656   \n",
       "2  0.636669  0.167194  0.047262  0.805431 -0.216461 -0.832227  0.211087   \n",
       "3  0.953572 -0.081125 -1.585880  0.790444  0.661770 -0.584282  0.756169   \n",
       "4 -1.881063  1.933660 -0.934299 -0.027952 -1.532906 -0.533383 -1.347156   \n",
       "\n",
       "         V8        V9       V10       V11       V12       V13       V14  \n",
       "0  0.205336  0.782904  0.220247  0.738105  1.133737  0.293355 -0.047399  \n",
       "1 -0.229829  0.784164 -0.213548 -0.653015  0.611788  0.889271 -0.026870  \n",
       "2 -0.149383  0.130334  0.068404 -0.679350 -0.769682 -1.879475  0.874865  \n",
       "3 -0.372009 -0.021283  0.292584 -1.691218 -0.416605 -0.408600  0.919810  \n",
       "4  2.364144 -0.488517 -0.149267  0.891399  1.105027 -0.896903  1.668861  "
      ]
     },
     "execution_count": 4,
     "metadata": {},
     "output_type": "execute_result"
    }
   ],
   "source": [
    "df_features = df_train.drop(['Amount', 'Class'], axis=1)\n",
    "df_features[:5]"
   ]
  },
  {
   "cell_type": "markdown",
   "metadata": {},
   "source": [
    "# Exercise 1. Removal of outliers"
   ]
  },
  {
   "cell_type": "code",
   "execution_count": 5,
   "metadata": {
    "collapsed": true
   },
   "outputs": [],
   "source": [
    "def mahalanobis_distance(X, mean, pre):\n",
    "    X_ = X - mean.reshape(1, -1)\n",
    "    return np.sqrt(np.sum(X_.dot(pre) * X_, axis=1))"
   ]
  },
  {
   "cell_type": "code",
   "execution_count": 6,
   "metadata": {},
   "outputs": [
    {
     "data": {
      "text/html": [
       "<div>\n",
       "<style>\n",
       "    .dataframe thead tr:only-child th {\n",
       "        text-align: right;\n",
       "    }\n",
       "\n",
       "    .dataframe thead th {\n",
       "        text-align: left;\n",
       "    }\n",
       "\n",
       "    .dataframe tbody tr th {\n",
       "        vertical-align: top;\n",
       "    }\n",
       "</style>\n",
       "<table border=\"1\" class=\"dataframe\">\n",
       "  <thead>\n",
       "    <tr style=\"text-align: right;\">\n",
       "      <th></th>\n",
       "      <th>V1</th>\n",
       "      <th>V2</th>\n",
       "      <th>V3</th>\n",
       "      <th>V4</th>\n",
       "      <th>V5</th>\n",
       "      <th>V6</th>\n",
       "      <th>V7</th>\n",
       "      <th>V8</th>\n",
       "      <th>V9</th>\n",
       "      <th>V10</th>\n",
       "      <th>V11</th>\n",
       "      <th>V12</th>\n",
       "      <th>V13</th>\n",
       "      <th>V14</th>\n",
       "      <th>Amount</th>\n",
       "      <th>Class</th>\n",
       "      <th>Outlier</th>\n",
       "    </tr>\n",
       "  </thead>\n",
       "  <tbody>\n",
       "    <tr>\n",
       "      <th>0</th>\n",
       "      <td>0.831314</td>\n",
       "      <td>-0.432472</td>\n",
       "      <td>-0.049039</td>\n",
       "      <td>0.901758</td>\n",
       "      <td>-0.487028</td>\n",
       "      <td>0.343540</td>\n",
       "      <td>-0.560537</td>\n",
       "      <td>0.205336</td>\n",
       "      <td>0.782904</td>\n",
       "      <td>0.220247</td>\n",
       "      <td>0.738105</td>\n",
       "      <td>1.133737</td>\n",
       "      <td>0.293355</td>\n",
       "      <td>-0.047399</td>\n",
       "      <td>0.220868</td>\n",
       "      <td>0</td>\n",
       "      <td>False</td>\n",
       "    </tr>\n",
       "    <tr>\n",
       "      <th>1</th>\n",
       "      <td>0.361998</td>\n",
       "      <td>-1.454860</td>\n",
       "      <td>-0.662910</td>\n",
       "      <td>0.770255</td>\n",
       "      <td>-0.965559</td>\n",
       "      <td>-0.298392</td>\n",
       "      <td>0.284656</td>\n",
       "      <td>-0.229829</td>\n",
       "      <td>0.784164</td>\n",
       "      <td>-0.213548</td>\n",
       "      <td>-0.653015</td>\n",
       "      <td>0.611788</td>\n",
       "      <td>0.889271</td>\n",
       "      <td>-0.026870</td>\n",
       "      <td>2.317812</td>\n",
       "      <td>0</td>\n",
       "      <td>False</td>\n",
       "    </tr>\n",
       "    <tr>\n",
       "      <th>2</th>\n",
       "      <td>0.636669</td>\n",
       "      <td>0.167194</td>\n",
       "      <td>0.047262</td>\n",
       "      <td>0.805431</td>\n",
       "      <td>-0.216461</td>\n",
       "      <td>-0.832227</td>\n",
       "      <td>0.211087</td>\n",
       "      <td>-0.149383</td>\n",
       "      <td>0.130334</td>\n",
       "      <td>0.068404</td>\n",
       "      <td>-0.679350</td>\n",
       "      <td>-0.769682</td>\n",
       "      <td>-1.879475</td>\n",
       "      <td>0.874865</td>\n",
       "      <td>-0.315146</td>\n",
       "      <td>0</td>\n",
       "      <td>False</td>\n",
       "    </tr>\n",
       "    <tr>\n",
       "      <th>3</th>\n",
       "      <td>0.953572</td>\n",
       "      <td>-0.081125</td>\n",
       "      <td>-1.585880</td>\n",
       "      <td>0.790444</td>\n",
       "      <td>0.661770</td>\n",
       "      <td>-0.584282</td>\n",
       "      <td>0.756169</td>\n",
       "      <td>-0.372009</td>\n",
       "      <td>-0.021283</td>\n",
       "      <td>0.292584</td>\n",
       "      <td>-1.691218</td>\n",
       "      <td>-0.416605</td>\n",
       "      <td>-0.408600</td>\n",
       "      <td>0.919810</td>\n",
       "      <td>0.220868</td>\n",
       "      <td>0</td>\n",
       "      <td>False</td>\n",
       "    </tr>\n",
       "    <tr>\n",
       "      <th>4</th>\n",
       "      <td>-1.881063</td>\n",
       "      <td>1.933660</td>\n",
       "      <td>-0.934299</td>\n",
       "      <td>-0.027952</td>\n",
       "      <td>-1.532906</td>\n",
       "      <td>-0.533383</td>\n",
       "      <td>-1.347156</td>\n",
       "      <td>2.364144</td>\n",
       "      <td>-0.488517</td>\n",
       "      <td>-0.149267</td>\n",
       "      <td>0.891399</td>\n",
       "      <td>1.105027</td>\n",
       "      <td>-0.896903</td>\n",
       "      <td>1.668861</td>\n",
       "      <td>-0.268631</td>\n",
       "      <td>0</td>\n",
       "      <td>False</td>\n",
       "    </tr>\n",
       "  </tbody>\n",
       "</table>\n",
       "</div>"
      ],
      "text/plain": [
       "         V1        V2        V3        V4        V5        V6        V7  \\\n",
       "0  0.831314 -0.432472 -0.049039  0.901758 -0.487028  0.343540 -0.560537   \n",
       "1  0.361998 -1.454860 -0.662910  0.770255 -0.965559 -0.298392  0.284656   \n",
       "2  0.636669  0.167194  0.047262  0.805431 -0.216461 -0.832227  0.211087   \n",
       "3  0.953572 -0.081125 -1.585880  0.790444  0.661770 -0.584282  0.756169   \n",
       "4 -1.881063  1.933660 -0.934299 -0.027952 -1.532906 -0.533383 -1.347156   \n",
       "\n",
       "         V8        V9       V10       V11       V12       V13       V14  \\\n",
       "0  0.205336  0.782904  0.220247  0.738105  1.133737  0.293355 -0.047399   \n",
       "1 -0.229829  0.784164 -0.213548 -0.653015  0.611788  0.889271 -0.026870   \n",
       "2 -0.149383  0.130334  0.068404 -0.679350 -0.769682 -1.879475  0.874865   \n",
       "3 -0.372009 -0.021283  0.292584 -1.691218 -0.416605 -0.408600  0.919810   \n",
       "4  2.364144 -0.488517 -0.149267  0.891399  1.105027 -0.896903  1.668861   \n",
       "\n",
       "     Amount  Class  Outlier  \n",
       "0  0.220868      0    False  \n",
       "1  2.317812      0    False  \n",
       "2 -0.315146      0    False  \n",
       "3  0.220868      0    False  \n",
       "4 -0.268631      0    False  "
      ]
     },
     "execution_count": 6,
     "metadata": {},
     "output_type": "execute_result"
    }
   ],
   "source": [
    "mean = df_features.mean().values\n",
    "cov = df_features.cov().values\n",
    "pre = np.linalg.inv(cov)\n",
    "\n",
    "distances = mahalanobis_distance(df_features.values, mean, pre)\n",
    "mask = [d > 50 for d in distances]\n",
    "df_train['Outlier'] = pd.Series(mask, index=df_train.index)\n",
    "df_no_outlier = df_train[np.logical_not(mask)]\n",
    "\n",
    "df_no_outlier[:5]"
   ]
  },
  {
   "cell_type": "code",
   "execution_count": 7,
   "metadata": {},
   "outputs": [
    {
     "name": "stdout",
     "output_type": "stream",
     "text": [
      "0: 227444\n",
      "1: 392\n",
      "total: 227836\n",
      "remaining(%): 0.999960\n"
     ]
    }
   ],
   "source": [
    "print('0: %d\\n1: %d' % tuple(df_no_outlier['Class'].value_counts()))\n",
    "print('total: %d' % len(df_no_outlier.index))\n",
    "print('remaining(%%): %f' % (len(df_no_outlier.index) / len(df_train.index)))"
   ]
  },
  {
   "cell_type": "code",
   "execution_count": 8,
   "metadata": {},
   "outputs": [
    {
     "data": {
      "text/plain": [
       "<seaborn.axisgrid.FacetGrid at 0x7f1ec3100748>"
      ]
     },
     "execution_count": 8,
     "metadata": {},
     "output_type": "execute_result"
    },
    {
     "data": {
      "image/png": "[encoded data removed]",
      "text/plain": [
       "<matplotlib.figure.Figure at 0x7f1ec4126240>"
      ]
     },
     "metadata": {},
     "output_type": "display_data"
    }
   ],
   "source": [
    "sns.lmplot('V1', 'V2', data=df_train, hue='Class', fit_reg=False, col='Outlier')"
   ]
  },
  {
   "cell_type": "markdown",
   "metadata": {},
   "source": [
    "# Exercise 2. Classification without downsampling"
   ]
  },
  {
   "cell_type": "code",
   "execution_count": 9,
   "metadata": {
    "collapsed": true
   },
   "outputs": [],
   "source": [
    "X_train = df_no_outlier.drop(['Amount', 'Class', 'Outlier'], axis=1).values\n",
    "y_train = df_no_outlier['Class'].values\n",
    "\n",
    "X_test = df_test.drop(['Amount', 'Class'], axis=1).values\n",
    "y_test = df_test['Class'].values"
   ]
  },
  {
   "cell_type": "code",
   "execution_count": 10,
   "metadata": {},
   "outputs": [
    {
     "name": "stdout",
     "output_type": "stream",
     "text": [
      "train confusion:\n",
      "[[227407     37]\n",
      " [   155    237]]\n",
      "train auc: 0.802215\n",
      "test confusion:\n",
      "[[56854    11]\n",
      " [   43    54]]\n",
      "test auc: 0.778254\n"
     ]
    }
   ],
   "source": [
    "logistic = sklearn.linear_model.LogisticRegression()\n",
    "fit = logistic.fit(X_train, y_train)\n",
    "confusion_train = sklearn.metrics.confusion_matrix(y_train, logistic.predict(X_train))\n",
    "confusion_test = sklearn.metrics.confusion_matrix(y_test, logistic.predict(X_test))\n",
    "\n",
    "np.set_printoptions(precision=2)\n",
    "print('train confusion:')\n",
    "print(confusion_train)\n",
    "fpr, tpr = sklearn.metrics.roc_curve(y_train, logistic.predict(X_train))[:2]\n",
    "print('train auc: %f' % sklearn.metrics.auc(fpr, tpr))\n",
    "\n",
    "print('test confusion:')\n",
    "print(confusion_test)\n",
    "fpr, tpr = sklearn.metrics.roc_curve(y_test, logistic.predict(X_test))[:2]\n",
    "print('test auc: %f' % sklearn.metrics.auc(fpr, tpr))"
   ]
  },
  {
   "cell_type": "markdown",
   "metadata": {},
   "source": [
    "# Classification with downsampling"
   ]
  },
  {
   "cell_type": "code",
   "execution_count": 15,
   "metadata": {},
   "outputs": [
    {
     "name": "stdout",
     "output_type": "stream",
     "text": [
      "train confusion:\n",
      "[[385   7]\n",
      " [ 35 357]]\n",
      "train auc: 0.946429\n",
      "test confusion:\n",
      "[[55540  1325]\n",
      " [   11    86]]\n",
      "test auc: 0.931649\n"
     ]
    }
   ],
   "source": [
    "df_positive = df_no_outlier[df_no_outlier['Class'] == 1]\n",
    "df_negative = df_no_outlier[df_no_outlier['Class'] == 0]\n",
    "df_negative_sampled = df_negative.sample(n=len(df_positive.index), random_state=0)\n",
    "df_sampled = pd.concat([df_positive, df_negative_sampled])\n",
    "X_train = df_sampled.drop(['Amount', 'Class', 'Outlier'], axis=1).values\n",
    "y_train = df_sampled['Class'].values\n",
    "\n",
    "logistic = sklearn.linear_model.LogisticRegression()\n",
    "logistic.fit(X_train, y_train)\n",
    "\n",
    "np.set_printoptions(precision=2)\n",
    "print('train confusion:')\n",
    "print(sklearn.metrics.confusion_matrix(y_train, logistic.predict(X_train)))\n",
    "fpr, tpr = sklearn.metrics.roc_curve(y_train, logistic.predict(X_train))[:2]\n",
    "print('train auc: %f' % sklearn.metrics.auc(fpr, tpr))\n",
    "\n",
    "print('test confusion:')\n",
    "print(sklearn.metrics.confusion_matrix(y_test, logistic.predict(X_test)))\n",
    "fpr, tpr = sklearn.metrics.roc_curve(y_test, logistic.predict(X_test))[:2]\n",
    "print('test auc: %f' % sklearn.metrics.auc(fpr, tpr))"
   ]
  },
  {
   "cell_type": "markdown",
   "metadata": {
    "collapsed": true
   },
   "source": [
    "# Exercise 3. Classification with downsampling + bagging"
   ]
  },
  {
   "cell_type": "code",
   "execution_count": 12,
   "metadata": {},
   "outputs": [
    {
     "name": "stdout",
     "output_type": "stream",
     "text": [
      "227444 records are resampled to 392 records\n"
     ]
    }
   ],
   "source": [
    "df_positive = df_no_outlier[df_no_outlier['Class'] == 1]\n",
    "df_negative = df_no_outlier[df_no_outlier['Class'] == 0]\n",
    "print('%d records are resampled to %d records' % (len(df_negative.index), len(df_positive.index)))\n",
    "\n",
    "classifiers = []\n",
    "for i in range(10):\n",
    "    df_negative_sampled = df_negative.sample(n=len(df_positive.index), random_state=i)\n",
    "    df_sampled = pd.concat([df_positive, df_negative_sampled])\n",
    "    X_train = df_sampled.drop(['Amount', 'Class', 'Outlier'], axis=1).values\n",
    "    y_train = df_sampled['Class'].values\n",
    "    logistic = sklearn.linear_model.LogisticRegression()\n",
    "    logistic.fit(X_train, y_train)\n",
    "    classifiers += [logistic]"
   ]
  },
  {
   "cell_type": "code",
   "execution_count": 13,
   "metadata": {},
   "outputs": [
    {
     "name": "stdout",
     "output_type": "stream",
     "text": [
      "train confusion:\n",
      "[[387   5]\n",
      " [ 30 362]]\n",
      "train auc: 0.955357\n",
      "test confusion:\n",
      "[[54770  2095]\n",
      " [    9    88]]\n",
      "test auc: 0.935187\n"
     ]
    }
   ],
   "source": [
    "ensemble = sklearn.ensemble.VotingClassifier(estimators=[('lr', classifier) for classifier in classifiers], voting='hard')\n",
    "ensemble.fit(X_train, y_train)\n",
    "\n",
    "np.set_printoptions(precision=2)\n",
    "print('train confusion:')\n",
    "print(sklearn.metrics.confusion_matrix(y_train, ensemble.predict(X_train)))\n",
    "fpr, tpr = sklearn.metrics.roc_curve(y_train, ensemble.predict(X_train))[:2]\n",
    "print('train auc: %f' % sklearn.metrics.auc(fpr, tpr))\n",
    "\n",
    "print('test confusion:')\n",
    "print(sklearn.metrics.confusion_matrix(y_test, ensemble.predict(X_test)))\n",
    "fpr, tpr = sklearn.metrics.roc_curve(y_test, ensemble.predict(X_test))[:2]\n",
    "print('test auc: %f' % sklearn.metrics.auc(fpr, tpr))"
   ]
  },
  {
   "cell_type": "code",
   "execution_count": 16,
   "metadata": {},
   "outputs": [
    {
     "data": {
      "text/plain": [
       "<matplotlib.contour.QuadContourSet at 0x7f1ebf3117f0>"
      ]
     },
     "execution_count": 16,
     "metadata": {},
     "output_type": "execute_result"
    },
    {
     "data": {
      "image/png": "[encoded data removed]",
      "text/plain": [
       "<matplotlib.figure.Figure at 0x7f1ebf259128>"
      ]
     },
     "metadata": {},
     "output_type": "display_data"
    }
   ],
   "source": [
    "X, Y = np.meshgrid(np.arange(-30, 10, dtype=float), np.arange(-40, 20, dtype=float))\n",
    "R = [np.zeros_like(X) for _ in range(12)] + df_no_outlier.mean().values[2:14].reshape(-1, 1, 1)\n",
    "Z = ensemble.predict(np.transpose(np.array([X, Y] + list(R)).reshape(14, 2400))).reshape(60, 40)\n",
    "sns.lmplot('V1', 'V2', data=df_train, hue='Class', fit_reg=False)\n",
    "plt.contour(X, Y, Z)"
   ]
  },
  {
   "cell_type": "code",
   "execution_count": null,
   "metadata": {
    "collapsed": true
   },
   "outputs": [],
   "source": []
  }
 ],
 "metadata": {
  "kernelspec": {
   "display_name": "Python 3",
   "language": "python",
   "name": "python3"
  },
  "language_info": {
   "codemirror_mode": {
    "name": "ipython",
    "version": 3
   },
   "file_extension": ".py",
   "mimetype": "text/x-python",
   "name": "python",
   "nbconvert_exporter": "python",
   "pygments_lexer": "ipython3",
   "version": "3.6.1"
  }
 },
 "nbformat": 4,
 "nbformat_minor": 2
}
