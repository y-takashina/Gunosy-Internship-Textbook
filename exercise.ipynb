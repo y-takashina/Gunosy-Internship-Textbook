{
 "cells": [
  {
   "cell_type": "code",
   "execution_count": 1,
   "metadata": {
    "collapsed": true
   },
   "outputs": [],
   "source": [
    "import numpy as np\n",
    "import pandas as pd\n",
    "import matplotlib.pyplot as plt\n",
    "%matplotlib inline\n",
    "import seaborn as sns\n",
    "sns.set_style('ticks')"
   ]
  },
  {
   "cell_type": "code",
   "execution_count": 2,
   "metadata": {},
   "outputs": [
    {
     "data": {
      "text/html": [
       "<div>\n",
       "<style>\n",
       "    .dataframe thead tr:only-child th {\n",
       "        text-align: right;\n",
       "    }\n",
       "\n",
       "    .dataframe thead th {\n",
       "        text-align: left;\n",
       "    }\n",
       "\n",
       "    .dataframe tbody tr th {\n",
       "        vertical-align: top;\n",
       "    }\n",
       "</style>\n",
       "<table border=\"1\" class=\"dataframe\">\n",
       "  <thead>\n",
       "    <tr style=\"text-align: right;\">\n",
       "      <th></th>\n",
       "      <th>V1</th>\n",
       "      <th>V2</th>\n",
       "      <th>V3</th>\n",
       "      <th>V4</th>\n",
       "      <th>V5</th>\n",
       "      <th>V6</th>\n",
       "      <th>V7</th>\n",
       "      <th>V8</th>\n",
       "      <th>V9</th>\n",
       "      <th>V10</th>\n",
       "      <th>V11</th>\n",
       "      <th>V12</th>\n",
       "      <th>V13</th>\n",
       "      <th>V14</th>\n",
       "      <th>Amount</th>\n",
       "      <th>Class</th>\n",
       "    </tr>\n",
       "  </thead>\n",
       "  <tbody>\n",
       "    <tr>\n",
       "      <th>0</th>\n",
       "      <td>-0.360935</td>\n",
       "      <td>0.414121</td>\n",
       "      <td>0.350526</td>\n",
       "      <td>-0.301530</td>\n",
       "      <td>0.807420</td>\n",
       "      <td>-0.980730</td>\n",
       "      <td>1.119891</td>\n",
       "      <td>-0.436637</td>\n",
       "      <td>-0.176753</td>\n",
       "      <td>-0.153670</td>\n",
       "      <td>-0.575059</td>\n",
       "      <td>-0.123297</td>\n",
       "      <td>-0.097962</td>\n",
       "      <td>0.298767</td>\n",
       "      <td>-0.343608</td>\n",
       "      <td>0</td>\n",
       "    </tr>\n",
       "    <tr>\n",
       "      <th>1</th>\n",
       "      <td>1.018400</td>\n",
       "      <td>-0.171383</td>\n",
       "      <td>-1.316673</td>\n",
       "      <td>0.359771</td>\n",
       "      <td>0.272607</td>\n",
       "      <td>-0.709163</td>\n",
       "      <td>0.410782</td>\n",
       "      <td>-0.298290</td>\n",
       "      <td>0.544704</td>\n",
       "      <td>0.131873</td>\n",
       "      <td>-1.764381</td>\n",
       "      <td>-0.598515</td>\n",
       "      <td>-1.313729</td>\n",
       "      <td>0.684423</td>\n",
       "      <td>-0.060945</td>\n",
       "      <td>0</td>\n",
       "    </tr>\n",
       "    <tr>\n",
       "      <th>2</th>\n",
       "      <td>0.025131</td>\n",
       "      <td>0.536588</td>\n",
       "      <td>0.157795</td>\n",
       "      <td>-0.440282</td>\n",
       "      <td>0.372151</td>\n",
       "      <td>-0.763276</td>\n",
       "      <td>0.850493</td>\n",
       "      <td>-0.195224</td>\n",
       "      <td>-0.112704</td>\n",
       "      <td>-0.394862</td>\n",
       "      <td>-0.939771</td>\n",
       "      <td>0.394708</td>\n",
       "      <td>0.617532</td>\n",
       "      <td>-0.012528</td>\n",
       "      <td>-0.319157</td>\n",
       "      <td>0</td>\n",
       "    </tr>\n",
       "    <tr>\n",
       "      <th>3</th>\n",
       "      <td>-0.507058</td>\n",
       "      <td>0.572257</td>\n",
       "      <td>0.581543</td>\n",
       "      <td>-0.977343</td>\n",
       "      <td>-0.332314</td>\n",
       "      <td>-0.516672</td>\n",
       "      <td>-0.007617</td>\n",
       "      <td>0.504860</td>\n",
       "      <td>0.010311</td>\n",
       "      <td>-0.349577</td>\n",
       "      <td>0.676610</td>\n",
       "      <td>0.328619</td>\n",
       "      <td>-0.748642</td>\n",
       "      <td>0.518961</td>\n",
       "      <td>-0.317194</td>\n",
       "      <td>0</td>\n",
       "    </tr>\n",
       "    <tr>\n",
       "      <th>4</th>\n",
       "      <td>-0.852951</td>\n",
       "      <td>0.165384</td>\n",
       "      <td>0.782056</td>\n",
       "      <td>-1.871645</td>\n",
       "      <td>-1.033465</td>\n",
       "      <td>0.223664</td>\n",
       "      <td>-1.026572</td>\n",
       "      <td>1.054989</td>\n",
       "      <td>-2.355760</td>\n",
       "      <td>0.735550</td>\n",
       "      <td>1.061064</td>\n",
       "      <td>-0.261007</td>\n",
       "      <td>0.032071</td>\n",
       "      <td>0.280895</td>\n",
       "      <td>-0.275042</td>\n",
       "      <td>0</td>\n",
       "    </tr>\n",
       "  </tbody>\n",
       "</table>\n",
       "</div>"
      ],
      "text/plain": [
       "         V1        V2        V3        V4        V5        V6        V7  \\\n",
       "0 -0.360935  0.414121  0.350526 -0.301530  0.807420 -0.980730  1.119891   \n",
       "1  1.018400 -0.171383 -1.316673  0.359771  0.272607 -0.709163  0.410782   \n",
       "2  0.025131  0.536588  0.157795 -0.440282  0.372151 -0.763276  0.850493   \n",
       "3 -0.507058  0.572257  0.581543 -0.977343 -0.332314 -0.516672 -0.007617   \n",
       "4 -0.852951  0.165384  0.782056 -1.871645 -1.033465  0.223664 -1.026572   \n",
       "\n",
       "         V8        V9       V10       V11       V12       V13       V14  \\\n",
       "0 -0.436637 -0.176753 -0.153670 -0.575059 -0.123297 -0.097962  0.298767   \n",
       "1 -0.298290  0.544704  0.131873 -1.764381 -0.598515 -1.313729  0.684423   \n",
       "2 -0.195224 -0.112704 -0.394862 -0.939771  0.394708  0.617532 -0.012528   \n",
       "3  0.504860  0.010311 -0.349577  0.676610  0.328619 -0.748642  0.518961   \n",
       "4  1.054989 -2.355760  0.735550  1.061064 -0.261007  0.032071  0.280895   \n",
       "\n",
       "     Amount  Class  \n",
       "0 -0.343608      0  \n",
       "1 -0.060945      0  \n",
       "2 -0.319157      0  \n",
       "3 -0.317194      0  \n",
       "4 -0.275042      0  "
      ]
     },
     "execution_count": 2,
     "metadata": {},
     "output_type": "execute_result"
    }
   ],
   "source": [
    "df_train = pd.read_csv('train.csv')\n",
    "df_train[:5]"
   ]
  },
  {
   "cell_type": "code",
   "execution_count": 3,
   "metadata": {},
   "outputs": [
    {
     "name": "stdout",
     "output_type": "stream",
     "text": [
      "0: 227454\n",
      "1: 391\n",
      "total: 227845\n"
     ]
    }
   ],
   "source": [
    "print('0: %d\\n1: %d' % tuple(df_train['Class'].value_counts()))\n",
    "print('total: %d' % len(df_train))"
   ]
  },
  {
   "cell_type": "code",
   "execution_count": 4,
   "metadata": {},
   "outputs": [
    {
     "data": {
      "text/html": [
       "<div>\n",
       "<style>\n",
       "    .dataframe thead tr:only-child th {\n",
       "        text-align: right;\n",
       "    }\n",
       "\n",
       "    .dataframe thead th {\n",
       "        text-align: left;\n",
       "    }\n",
       "\n",
       "    .dataframe tbody tr th {\n",
       "        vertical-align: top;\n",
       "    }\n",
       "</style>\n",
       "<table border=\"1\" class=\"dataframe\">\n",
       "  <thead>\n",
       "    <tr style=\"text-align: right;\">\n",
       "      <th></th>\n",
       "      <th>V1</th>\n",
       "      <th>V2</th>\n",
       "      <th>V3</th>\n",
       "      <th>V4</th>\n",
       "      <th>V5</th>\n",
       "      <th>V6</th>\n",
       "      <th>V7</th>\n",
       "      <th>V8</th>\n",
       "      <th>V9</th>\n",
       "      <th>V10</th>\n",
       "      <th>V11</th>\n",
       "      <th>V12</th>\n",
       "      <th>V13</th>\n",
       "      <th>V14</th>\n",
       "    </tr>\n",
       "  </thead>\n",
       "  <tbody>\n",
       "    <tr>\n",
       "      <th>0</th>\n",
       "      <td>-0.360935</td>\n",
       "      <td>0.414121</td>\n",
       "      <td>0.350526</td>\n",
       "      <td>-0.301530</td>\n",
       "      <td>0.807420</td>\n",
       "      <td>-0.980730</td>\n",
       "      <td>1.119891</td>\n",
       "      <td>-0.436637</td>\n",
       "      <td>-0.176753</td>\n",
       "      <td>-0.153670</td>\n",
       "      <td>-0.575059</td>\n",
       "      <td>-0.123297</td>\n",
       "      <td>-0.097962</td>\n",
       "      <td>0.298767</td>\n",
       "    </tr>\n",
       "    <tr>\n",
       "      <th>1</th>\n",
       "      <td>1.018400</td>\n",
       "      <td>-0.171383</td>\n",
       "      <td>-1.316673</td>\n",
       "      <td>0.359771</td>\n",
       "      <td>0.272607</td>\n",
       "      <td>-0.709163</td>\n",
       "      <td>0.410782</td>\n",
       "      <td>-0.298290</td>\n",
       "      <td>0.544704</td>\n",
       "      <td>0.131873</td>\n",
       "      <td>-1.764381</td>\n",
       "      <td>-0.598515</td>\n",
       "      <td>-1.313729</td>\n",
       "      <td>0.684423</td>\n",
       "    </tr>\n",
       "    <tr>\n",
       "      <th>2</th>\n",
       "      <td>0.025131</td>\n",
       "      <td>0.536588</td>\n",
       "      <td>0.157795</td>\n",
       "      <td>-0.440282</td>\n",
       "      <td>0.372151</td>\n",
       "      <td>-0.763276</td>\n",
       "      <td>0.850493</td>\n",
       "      <td>-0.195224</td>\n",
       "      <td>-0.112704</td>\n",
       "      <td>-0.394862</td>\n",
       "      <td>-0.939771</td>\n",
       "      <td>0.394708</td>\n",
       "      <td>0.617532</td>\n",
       "      <td>-0.012528</td>\n",
       "    </tr>\n",
       "    <tr>\n",
       "      <th>3</th>\n",
       "      <td>-0.507058</td>\n",
       "      <td>0.572257</td>\n",
       "      <td>0.581543</td>\n",
       "      <td>-0.977343</td>\n",
       "      <td>-0.332314</td>\n",
       "      <td>-0.516672</td>\n",
       "      <td>-0.007617</td>\n",
       "      <td>0.504860</td>\n",
       "      <td>0.010311</td>\n",
       "      <td>-0.349577</td>\n",
       "      <td>0.676610</td>\n",
       "      <td>0.328619</td>\n",
       "      <td>-0.748642</td>\n",
       "      <td>0.518961</td>\n",
       "    </tr>\n",
       "    <tr>\n",
       "      <th>4</th>\n",
       "      <td>-0.852951</td>\n",
       "      <td>0.165384</td>\n",
       "      <td>0.782056</td>\n",
       "      <td>-1.871645</td>\n",
       "      <td>-1.033465</td>\n",
       "      <td>0.223664</td>\n",
       "      <td>-1.026572</td>\n",
       "      <td>1.054989</td>\n",
       "      <td>-2.355760</td>\n",
       "      <td>0.735550</td>\n",
       "      <td>1.061064</td>\n",
       "      <td>-0.261007</td>\n",
       "      <td>0.032071</td>\n",
       "      <td>0.280895</td>\n",
       "    </tr>\n",
       "  </tbody>\n",
       "</table>\n",
       "</div>"
      ],
      "text/plain": [
       "         V1        V2        V3        V4        V5        V6        V7  \\\n",
       "0 -0.360935  0.414121  0.350526 -0.301530  0.807420 -0.980730  1.119891   \n",
       "1  1.018400 -0.171383 -1.316673  0.359771  0.272607 -0.709163  0.410782   \n",
       "2  0.025131  0.536588  0.157795 -0.440282  0.372151 -0.763276  0.850493   \n",
       "3 -0.507058  0.572257  0.581543 -0.977343 -0.332314 -0.516672 -0.007617   \n",
       "4 -0.852951  0.165384  0.782056 -1.871645 -1.033465  0.223664 -1.026572   \n",
       "\n",
       "         V8        V9       V10       V11       V12       V13       V14  \n",
       "0 -0.436637 -0.176753 -0.153670 -0.575059 -0.123297 -0.097962  0.298767  \n",
       "1 -0.298290  0.544704  0.131873 -1.764381 -0.598515 -1.313729  0.684423  \n",
       "2 -0.195224 -0.112704 -0.394862 -0.939771  0.394708  0.617532 -0.012528  \n",
       "3  0.504860  0.010311 -0.349577  0.676610  0.328619 -0.748642  0.518961  \n",
       "4  1.054989 -2.355760  0.735550  1.061064 -0.261007  0.032071  0.280895  "
      ]
     },
     "execution_count": 4,
     "metadata": {},
     "output_type": "execute_result"
    }
   ],
   "source": [
    "df_features = df_train.drop(['Amount', 'Class'], axis=1)\n",
    "df_features[:5]"
   ]
  },
  {
   "cell_type": "code",
   "execution_count": 5,
   "metadata": {
    "collapsed": true
   },
   "outputs": [],
   "source": [
    "def mahalanobis_distance(X, mean, pre):\n",
    "    X_ = X - mean.reshape(1, -1)\n",
    "    return np.sqrt(np.sum(X_.dot(pre) * X_, axis=1))"
   ]
  },
  {
   "cell_type": "code",
   "execution_count": 6,
   "metadata": {},
   "outputs": [
    {
     "name": "stdout",
     "output_type": "stream",
     "text": [
      "0: 227446\n",
      "1: 388\n",
      "total: 227834\n",
      "outlier(%): 0.000048\n"
     ]
    }
   ],
   "source": [
    "mean = df_features.mean().values\n",
    "cov = df_features.cov().values\n",
    "pre = np.linalg.inv(cov)\n",
    "\n",
    "distances = mahalanobis_distance(df_features.values, mean, pre)\n",
    "mask = [d > 50 for d in distances]\n",
    "df_train['Outlier'] = pd.Series(mask, index=df_train.index)\n",
    "df_no_outlier = df_train[np.logical_not(mask)]\n",
    "\n",
    "print('0: %d\\n1: %d' % tuple(df_no_outlier['Class'].value_counts()))\n",
    "print('total: %d' % len(df_no_outlier.index))\n",
    "print('outlier(%%): %f' % (np.sum(mask) / len(mask)))"
   ]
  },
  {
   "cell_type": "code",
   "execution_count": 7,
   "metadata": {},
   "outputs": [
    {
     "data": {
      "text/plain": [
       "<seaborn.axisgrid.FacetGrid at 0x7fc07decb860>"
      ]
     },
     "execution_count": 7,
     "metadata": {},
     "output_type": "execute_result"
    },
    {
     "data": {
      "image/png": "[encoded data removed]",
      "text/plain": [
       "<matplotlib.figure.Figure at 0x7fc07decb6d8>"
      ]
     },
     "metadata": {},
     "output_type": "display_data"
    }
   ],
   "source": [
    "sns.lmplot('V1', 'V2', data=df_train, hue='Class', fit_reg=False, col='Outlier')"
   ]
  },
  {
   "cell_type": "code",
   "execution_count": 8,
   "metadata": {
    "collapsed": true
   },
   "outputs": [],
   "source": [
    "df_sampled = df_no_outlier.sample(n=30000, random_state=3)"
   ]
  },
  {
   "cell_type": "code",
   "execution_count": null,
   "metadata": {
    "collapsed": true
   },
   "outputs": [],
   "source": []
  }
 ],
 "metadata": {
  "kernelspec": {
   "display_name": "py36",
   "language": "python",
   "name": "py36"
  },
  "language_info": {
   "codemirror_mode": {
    "name": "ipython",
    "version": 3
   },
   "file_extension": ".py",
   "mimetype": "text/x-python",
   "name": "python",
   "nbconvert_exporter": "python",
   "pygments_lexer": "ipython3",
   "version": "3.6.1"
  }
 },
 "nbformat": 4,
 "nbformat_minor": 2
}
