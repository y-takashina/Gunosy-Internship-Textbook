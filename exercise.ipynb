{
 "cells": [
  {
   "cell_type": "code",
   "execution_count": 1,
   "metadata": {
    "collapsed": true
   },
   "outputs": [],
   "source": [
    "import numpy as np\n",
    "import sklearn.metrics\n",
    "import sklearn.svm\n",
    "import sklearn.linear_model\n",
    "import sklearn.ensemble\n",
    "import pandas as pd\n",
    "import matplotlib.pyplot as plt\n",
    "%matplotlib inline\n",
    "import seaborn as sns\n",
    "sns.set_style('ticks')"
   ]
  },
  {
   "cell_type": "code",
   "execution_count": 2,
   "metadata": {},
   "outputs": [
    {
     "data": {
      "text/html": [
       "<div>\n",
       "<style>\n",
       "    .dataframe thead tr:only-child th {\n",
       "        text-align: right;\n",
       "    }\n",
       "\n",
       "    .dataframe thead th {\n",
       "        text-align: left;\n",
       "    }\n",
       "\n",
       "    .dataframe tbody tr th {\n",
       "        vertical-align: top;\n",
       "    }\n",
       "</style>\n",
       "<table border=\"1\" class=\"dataframe\">\n",
       "  <thead>\n",
       "    <tr style=\"text-align: right;\">\n",
       "      <th></th>\n",
       "      <th>V1</th>\n",
       "      <th>V2</th>\n",
       "      <th>V3</th>\n",
       "      <th>V4</th>\n",
       "      <th>V5</th>\n",
       "      <th>V6</th>\n",
       "      <th>V7</th>\n",
       "      <th>V8</th>\n",
       "      <th>V9</th>\n",
       "      <th>V10</th>\n",
       "      <th>V11</th>\n",
       "      <th>V12</th>\n",
       "      <th>V13</th>\n",
       "      <th>V14</th>\n",
       "      <th>Amount</th>\n",
       "      <th>Class</th>\n",
       "    </tr>\n",
       "  </thead>\n",
       "  <tbody>\n",
       "    <tr>\n",
       "      <th>0</th>\n",
       "      <td>1.031248</td>\n",
       "      <td>-0.072050</td>\n",
       "      <td>-0.670876</td>\n",
       "      <td>0.229800</td>\n",
       "      <td>-0.110964</td>\n",
       "      <td>-0.717370</td>\n",
       "      <td>0.062495</td>\n",
       "      <td>-0.159257</td>\n",
       "      <td>0.272605</td>\n",
       "      <td>0.227314</td>\n",
       "      <td>0.991693</td>\n",
       "      <td>1.072832</td>\n",
       "      <td>-0.203424</td>\n",
       "      <td>0.535359</td>\n",
       "      <td>-0.346886</td>\n",
       "      <td>0</td>\n",
       "    </tr>\n",
       "    <tr>\n",
       "      <th>1</th>\n",
       "      <td>0.634638</td>\n",
       "      <td>0.066966</td>\n",
       "      <td>0.248198</td>\n",
       "      <td>0.310266</td>\n",
       "      <td>-0.266923</td>\n",
       "      <td>-0.383850</td>\n",
       "      <td>-0.099650</td>\n",
       "      <td>0.017669</td>\n",
       "      <td>-0.029575</td>\n",
       "      <td>0.124333</td>\n",
       "      <td>0.988165</td>\n",
       "      <td>0.385953</td>\n",
       "      <td>-0.778380</td>\n",
       "      <td>0.657550</td>\n",
       "      <td>-0.350666</td>\n",
       "      <td>0</td>\n",
       "    </tr>\n",
       "    <tr>\n",
       "      <th>2</th>\n",
       "      <td>-0.377653</td>\n",
       "      <td>-0.335355</td>\n",
       "      <td>0.935346</td>\n",
       "      <td>-2.305539</td>\n",
       "      <td>-0.334195</td>\n",
       "      <td>0.210266</td>\n",
       "      <td>-0.291444</td>\n",
       "      <td>0.266795</td>\n",
       "      <td>-1.873973</td>\n",
       "      <td>0.696620</td>\n",
       "      <td>-0.049903</td>\n",
       "      <td>-1.357454</td>\n",
       "      <td>-0.997217</td>\n",
       "      <td>-0.314179</td>\n",
       "      <td>-0.201388</td>\n",
       "      <td>0</td>\n",
       "    </tr>\n",
       "    <tr>\n",
       "      <th>3</th>\n",
       "      <td>-0.150965</td>\n",
       "      <td>1.069422</td>\n",
       "      <td>-0.373497</td>\n",
       "      <td>2.864481</td>\n",
       "      <td>1.103171</td>\n",
       "      <td>1.053799</td>\n",
       "      <td>0.451532</td>\n",
       "      <td>0.543179</td>\n",
       "      <td>-2.217048</td>\n",
       "      <td>1.538206</td>\n",
       "      <td>-0.786411</td>\n",
       "      <td>-0.601413</td>\n",
       "      <td>-0.501937</td>\n",
       "      <td>1.100703</td>\n",
       "      <td>-0.279458</td>\n",
       "      <td>0</td>\n",
       "    </tr>\n",
       "    <tr>\n",
       "      <th>4</th>\n",
       "      <td>0.053348</td>\n",
       "      <td>0.777710</td>\n",
       "      <td>-1.284370</td>\n",
       "      <td>-0.330396</td>\n",
       "      <td>0.908994</td>\n",
       "      <td>-0.908333</td>\n",
       "      <td>0.974965</td>\n",
       "      <td>0.036462</td>\n",
       "      <td>-0.527542</td>\n",
       "      <td>-1.028895</td>\n",
       "      <td>-1.187415</td>\n",
       "      <td>-0.360524</td>\n",
       "      <td>-0.370287</td>\n",
       "      <td>-0.401160</td>\n",
       "      <td>-0.305920</td>\n",
       "      <td>0</td>\n",
       "    </tr>\n",
       "  </tbody>\n",
       "</table>\n",
       "</div>"
      ],
      "text/plain": [
       "         V1        V2        V3        V4        V5        V6        V7  \\\n",
       "0  1.031248 -0.072050 -0.670876  0.229800 -0.110964 -0.717370  0.062495   \n",
       "1  0.634638  0.066966  0.248198  0.310266 -0.266923 -0.383850 -0.099650   \n",
       "2 -0.377653 -0.335355  0.935346 -2.305539 -0.334195  0.210266 -0.291444   \n",
       "3 -0.150965  1.069422 -0.373497  2.864481  1.103171  1.053799  0.451532   \n",
       "4  0.053348  0.777710 -1.284370 -0.330396  0.908994 -0.908333  0.974965   \n",
       "\n",
       "         V8        V9       V10       V11       V12       V13       V14  \\\n",
       "0 -0.159257  0.272605  0.227314  0.991693  1.072832 -0.203424  0.535359   \n",
       "1  0.017669 -0.029575  0.124333  0.988165  0.385953 -0.778380  0.657550   \n",
       "2  0.266795 -1.873973  0.696620 -0.049903 -1.357454 -0.997217 -0.314179   \n",
       "3  0.543179 -2.217048  1.538206 -0.786411 -0.601413 -0.501937  1.100703   \n",
       "4  0.036462 -0.527542 -1.028895 -1.187415 -0.360524 -0.370287 -0.401160   \n",
       "\n",
       "     Amount  Class  \n",
       "0 -0.346886      0  \n",
       "1 -0.350666      0  \n",
       "2 -0.201388      0  \n",
       "3 -0.279458      0  \n",
       "4 -0.305920      0  "
      ]
     },
     "execution_count": 2,
     "metadata": {},
     "output_type": "execute_result"
    }
   ],
   "source": [
    "df_train_verbose = pd.read_csv('train.csv', index_col=False)\n",
    "df_test_verbose = pd.read_csv('test.csv', index_col=False)\n",
    "df_train = df_train_verbose.drop(['Amount', 'Class'], axis=1)\n",
    "df_test = df_test_verbose.drop(['Amount', 'Class'], axis=1)\n",
    "df_train_verbose[:5]"
   ]
  },
  {
   "cell_type": "code",
   "execution_count": 3,
   "metadata": {},
   "outputs": [
    {
     "name": "stdout",
     "output_type": "stream",
     "text": [
      "0: 227453\n",
      "1: 392\n",
      "total: 227845\n"
     ]
    }
   ],
   "source": [
    "print('0: %d\\n1: %d' % tuple(df_train_verbose['Class'].value_counts()))\n",
    "print('total: %d' % len(df_train_verbose))"
   ]
  },
  {
   "cell_type": "markdown",
   "metadata": {},
   "source": [
    "# Exercise 1.\n",
    "## Removal of outliers"
   ]
  },
  {
   "cell_type": "code",
   "execution_count": 4,
   "metadata": {
    "collapsed": true
   },
   "outputs": [],
   "source": [
    "def mahalanobis_distance(X, mean, cov):\n",
    "    pre = np.linalg.inv(cov)\n",
    "    X_ = X - mean.reshape(1, -1)\n",
    "    return np.sqrt(np.sum(X_.dot(pre) * X_, axis=1))"
   ]
  },
  {
   "cell_type": "code",
   "execution_count": 5,
   "metadata": {},
   "outputs": [
    {
     "data": {
      "text/html": [
       "<div>\n",
       "<style>\n",
       "    .dataframe thead tr:only-child th {\n",
       "        text-align: right;\n",
       "    }\n",
       "\n",
       "    .dataframe thead th {\n",
       "        text-align: left;\n",
       "    }\n",
       "\n",
       "    .dataframe tbody tr th {\n",
       "        vertical-align: top;\n",
       "    }\n",
       "</style>\n",
       "<table border=\"1\" class=\"dataframe\">\n",
       "  <thead>\n",
       "    <tr style=\"text-align: right;\">\n",
       "      <th></th>\n",
       "      <th>V1</th>\n",
       "      <th>V2</th>\n",
       "      <th>V3</th>\n",
       "      <th>V4</th>\n",
       "      <th>V5</th>\n",
       "      <th>V6</th>\n",
       "      <th>V7</th>\n",
       "      <th>V8</th>\n",
       "      <th>V9</th>\n",
       "      <th>V10</th>\n",
       "      <th>V11</th>\n",
       "      <th>V12</th>\n",
       "      <th>V13</th>\n",
       "      <th>V14</th>\n",
       "      <th>Amount</th>\n",
       "      <th>Class</th>\n",
       "      <th>Outlier</th>\n",
       "    </tr>\n",
       "  </thead>\n",
       "  <tbody>\n",
       "    <tr>\n",
       "      <th>0</th>\n",
       "      <td>1.031248</td>\n",
       "      <td>-0.072050</td>\n",
       "      <td>-0.670876</td>\n",
       "      <td>0.229800</td>\n",
       "      <td>-0.110964</td>\n",
       "      <td>-0.717370</td>\n",
       "      <td>0.062495</td>\n",
       "      <td>-0.159257</td>\n",
       "      <td>0.272605</td>\n",
       "      <td>0.227314</td>\n",
       "      <td>0.991693</td>\n",
       "      <td>1.072832</td>\n",
       "      <td>-0.203424</td>\n",
       "      <td>0.535359</td>\n",
       "      <td>-0.346886</td>\n",
       "      <td>0</td>\n",
       "      <td>False</td>\n",
       "    </tr>\n",
       "    <tr>\n",
       "      <th>1</th>\n",
       "      <td>0.634638</td>\n",
       "      <td>0.066966</td>\n",
       "      <td>0.248198</td>\n",
       "      <td>0.310266</td>\n",
       "      <td>-0.266923</td>\n",
       "      <td>-0.383850</td>\n",
       "      <td>-0.099650</td>\n",
       "      <td>0.017669</td>\n",
       "      <td>-0.029575</td>\n",
       "      <td>0.124333</td>\n",
       "      <td>0.988165</td>\n",
       "      <td>0.385953</td>\n",
       "      <td>-0.778380</td>\n",
       "      <td>0.657550</td>\n",
       "      <td>-0.350666</td>\n",
       "      <td>0</td>\n",
       "      <td>False</td>\n",
       "    </tr>\n",
       "    <tr>\n",
       "      <th>2</th>\n",
       "      <td>-0.377653</td>\n",
       "      <td>-0.335355</td>\n",
       "      <td>0.935346</td>\n",
       "      <td>-2.305539</td>\n",
       "      <td>-0.334195</td>\n",
       "      <td>0.210266</td>\n",
       "      <td>-0.291444</td>\n",
       "      <td>0.266795</td>\n",
       "      <td>-1.873973</td>\n",
       "      <td>0.696620</td>\n",
       "      <td>-0.049903</td>\n",
       "      <td>-1.357454</td>\n",
       "      <td>-0.997217</td>\n",
       "      <td>-0.314179</td>\n",
       "      <td>-0.201388</td>\n",
       "      <td>0</td>\n",
       "      <td>False</td>\n",
       "    </tr>\n",
       "    <tr>\n",
       "      <th>3</th>\n",
       "      <td>-0.150965</td>\n",
       "      <td>1.069422</td>\n",
       "      <td>-0.373497</td>\n",
       "      <td>2.864481</td>\n",
       "      <td>1.103171</td>\n",
       "      <td>1.053799</td>\n",
       "      <td>0.451532</td>\n",
       "      <td>0.543179</td>\n",
       "      <td>-2.217048</td>\n",
       "      <td>1.538206</td>\n",
       "      <td>-0.786411</td>\n",
       "      <td>-0.601413</td>\n",
       "      <td>-0.501937</td>\n",
       "      <td>1.100703</td>\n",
       "      <td>-0.279458</td>\n",
       "      <td>0</td>\n",
       "      <td>False</td>\n",
       "    </tr>\n",
       "    <tr>\n",
       "      <th>4</th>\n",
       "      <td>0.053348</td>\n",
       "      <td>0.777710</td>\n",
       "      <td>-1.284370</td>\n",
       "      <td>-0.330396</td>\n",
       "      <td>0.908994</td>\n",
       "      <td>-0.908333</td>\n",
       "      <td>0.974965</td>\n",
       "      <td>0.036462</td>\n",
       "      <td>-0.527542</td>\n",
       "      <td>-1.028895</td>\n",
       "      <td>-1.187415</td>\n",
       "      <td>-0.360524</td>\n",
       "      <td>-0.370287</td>\n",
       "      <td>-0.401160</td>\n",
       "      <td>-0.305920</td>\n",
       "      <td>0</td>\n",
       "      <td>False</td>\n",
       "    </tr>\n",
       "  </tbody>\n",
       "</table>\n",
       "</div>"
      ],
      "text/plain": [
       "         V1        V2        V3        V4        V5        V6        V7  \\\n",
       "0  1.031248 -0.072050 -0.670876  0.229800 -0.110964 -0.717370  0.062495   \n",
       "1  0.634638  0.066966  0.248198  0.310266 -0.266923 -0.383850 -0.099650   \n",
       "2 -0.377653 -0.335355  0.935346 -2.305539 -0.334195  0.210266 -0.291444   \n",
       "3 -0.150965  1.069422 -0.373497  2.864481  1.103171  1.053799  0.451532   \n",
       "4  0.053348  0.777710 -1.284370 -0.330396  0.908994 -0.908333  0.974965   \n",
       "\n",
       "         V8        V9       V10       V11       V12       V13       V14  \\\n",
       "0 -0.159257  0.272605  0.227314  0.991693  1.072832 -0.203424  0.535359   \n",
       "1  0.017669 -0.029575  0.124333  0.988165  0.385953 -0.778380  0.657550   \n",
       "2  0.266795 -1.873973  0.696620 -0.049903 -1.357454 -0.997217 -0.314179   \n",
       "3  0.543179 -2.217048  1.538206 -0.786411 -0.601413 -0.501937  1.100703   \n",
       "4  0.036462 -0.527542 -1.028895 -1.187415 -0.360524 -0.370287 -0.401160   \n",
       "\n",
       "     Amount  Class  Outlier  \n",
       "0 -0.346886      0    False  \n",
       "1 -0.350666      0    False  \n",
       "2 -0.201388      0    False  \n",
       "3 -0.279458      0    False  \n",
       "4 -0.305920      0    False  "
      ]
     },
     "execution_count": 5,
     "metadata": {},
     "output_type": "execute_result"
    }
   ],
   "source": [
    "mean = df_train.mean().values\n",
    "cov = df_train.cov().values\n",
    "\n",
    "distances = mahalanobis_distance(df_train.values, mean, cov)\n",
    "df_train_verbose['Outlier'] = pd.Series(distances > 50, index=df_train_verbose.index)\n",
    "df_no_outlier_verbose = df_train_verbose[distances < 50]\n",
    "df_no_outlier = df_train[distances < 50]\n",
    "\n",
    "df_no_outlier_verbose[:5]"
   ]
  },
  {
   "cell_type": "code",
   "execution_count": 6,
   "metadata": {},
   "outputs": [
    {
     "name": "stdout",
     "output_type": "stream",
     "text": [
      "0: 227446\n",
      "1: 391\n",
      "total: 227837\n",
      "remaining(%): 0.999965\n"
     ]
    }
   ],
   "source": [
    "print('0: %d\\n1: %d' % tuple(df_no_outlier_verbose['Class'].value_counts()))\n",
    "print('total: %d' % len(df_no_outlier.index))\n",
    "print('remaining(%%): %f' % (len(df_no_outlier.index) / len(df_train.index)))"
   ]
  },
  {
   "cell_type": "code",
   "execution_count": 7,
   "metadata": {},
   "outputs": [
    {
     "data": {
      "text/plain": [
       "<seaborn.axisgrid.FacetGrid at 0x7fd91a8b55c0>"
      ]
     },
     "execution_count": 7,
     "metadata": {},
     "output_type": "execute_result"
    },
    {
     "data": {
      "image/png": "[encoded data removed]",
      "text/plain": [
       "<matplotlib.figure.Figure at 0x7fd91a8b5470>"
      ]
     },
     "metadata": {},
     "output_type": "display_data"
    }
   ],
   "source": [
    "sns.lmplot('V1', 'V2', data=df_train_verbose, hue='Class', fit_reg=False, col='Outlier')"
   ]
  },
  {
   "cell_type": "markdown",
   "metadata": {},
   "source": [
    "# Exercise 2.\n",
    "## Classification by LR without downsampling"
   ]
  },
  {
   "cell_type": "code",
   "execution_count": 8,
   "metadata": {
    "collapsed": true
   },
   "outputs": [],
   "source": [
    "X_train = df_no_outlier.values\n",
    "y_train = df_no_outlier_verbose['Class'].values\n",
    "X_test = df_test.values\n",
    "y_test = df_test_verbose['Class'].values"
   ]
  },
  {
   "cell_type": "code",
   "execution_count": 9,
   "metadata": {},
   "outputs": [
    {
     "data": {
      "text/plain": [
       "LogisticRegression(C=1.0, class_weight=None, dual=False, fit_intercept=True,\n",
       "          intercept_scaling=1, max_iter=100, multi_class='ovr', n_jobs=1,\n",
       "          penalty='l2', random_state=None, solver='liblinear', tol=0.0001,\n",
       "          verbose=0, warm_start=False)"
      ]
     },
     "execution_count": 9,
     "metadata": {},
     "output_type": "execute_result"
    }
   ],
   "source": [
    "logistic = sklearn.linear_model.LogisticRegression()\n",
    "logistic.fit(X_train, y_train)"
   ]
  },
  {
   "cell_type": "code",
   "execution_count": 10,
   "metadata": {
    "collapsed": true
   },
   "outputs": [],
   "source": [
    "def print_result(X, y, predict, mode):\n",
    "    np.set_printoptions(precision=2)\n",
    "    print('Result for %s data:' % mode)\n",
    "    print('confusion matrix:')\n",
    "    prediction = predict(X)\n",
    "    print(sklearn.metrics.confusion_matrix(y, prediction))\n",
    "    fpr, tpr = sklearn.metrics.roc_curve(y, prediction)[:2]\n",
    "    print('auc: %f' % sklearn.metrics.auc(fpr, tpr))"
   ]
  },
  {
   "cell_type": "code",
   "execution_count": 11,
   "metadata": {
    "scrolled": true
   },
   "outputs": [
    {
     "name": "stdout",
     "output_type": "stream",
     "text": [
      "Result for train data:\n",
      "confusion matrix:\n",
      "[[227408     38]\n",
      " [   158    233]]\n",
      "auc: 0.797870\n",
      "Result for test data:\n",
      "confusion matrix:\n",
      "[[56849    13]\n",
      " [   38    62]]\n",
      "auc: 0.809886\n"
     ]
    }
   ],
   "source": [
    "print_result(X_train, y_train, logistic.predict, 'train')\n",
    "print_result(X_test, y_test, logistic.predict, 'test')"
   ]
  },
  {
   "cell_type": "markdown",
   "metadata": {},
   "source": [
    "## Classification by LR with downsampling"
   ]
  },
  {
   "cell_type": "code",
   "execution_count": 12,
   "metadata": {},
   "outputs": [
    {
     "name": "stdout",
     "output_type": "stream",
     "text": [
      "227446 records are resampled to 391 records\n"
     ]
    }
   ],
   "source": [
    "df_positive_verbose = df_no_outlier_verbose[df_no_outlier_verbose['Class'] == 1]\n",
    "df_negative_verbose = df_no_outlier_verbose[df_no_outlier_verbose['Class'] == 0]\n",
    "df_negative_sampled_verbose = df_negative_verbose.sample(n=len(df_positive_verbose.index), random_state=0)\n",
    "df_sampled_verbose = pd.concat([df_positive_verbose, df_negative_sampled_verbose])\n",
    "X_sampled = df_sampled_verbose.drop(['Amount', 'Class', 'Outlier'], axis=1).values\n",
    "y_sampled = df_sampled_verbose['Class'].values\n",
    "\n",
    "print('%d records are resampled to %d records' % (len(df_negative_verbose.index), len(df_positive_verbose.index)))"
   ]
  },
  {
   "cell_type": "code",
   "execution_count": 13,
   "metadata": {},
   "outputs": [
    {
     "data": {
      "text/plain": [
       "LogisticRegression(C=1.0, class_weight=None, dual=False, fit_intercept=True,\n",
       "          intercept_scaling=1, max_iter=100, multi_class='ovr', n_jobs=1,\n",
       "          penalty='l2', random_state=None, solver='liblinear', tol=0.0001,\n",
       "          verbose=0, warm_start=False)"
      ]
     },
     "execution_count": 13,
     "metadata": {},
     "output_type": "execute_result"
    }
   ],
   "source": [
    "logistic = sklearn.linear_model.LogisticRegression()\n",
    "logistic.fit(X_sampled, y_sampled)"
   ]
  },
  {
   "cell_type": "code",
   "execution_count": 14,
   "metadata": {},
   "outputs": [
    {
     "name": "stdout",
     "output_type": "stream",
     "text": [
      "Result for train data:\n",
      "confusion matrix:\n",
      "[[218769   8677]\n",
      " [    35    356]]\n",
      "auc: 0.936168\n",
      "Result for test data:\n",
      "confusion matrix:\n",
      "[[54677  2185]\n",
      " [    5    95]]\n",
      "auc: 0.955787\n"
     ]
    }
   ],
   "source": [
    "print_result(X_train, y_train, logistic.predict, 'train')\n",
    "print_result(X_test, y_test, logistic.predict, 'test')"
   ]
  },
  {
   "cell_type": "markdown",
   "metadata": {
    "collapsed": true
   },
   "source": [
    "# Exercise 3.\n",
    "## Classification by LR with downsampling + bagging"
   ]
  },
  {
   "cell_type": "code",
   "execution_count": 15,
   "metadata": {
    "collapsed": true
   },
   "outputs": [],
   "source": [
    "# sklearn.ensemble.VotingClassifier は勝手に re-fit するため自作\n",
    "class VotingClassifier(object):\n",
    "    def __init__(self, estimators):\n",
    "        self._estimators = estimators\n",
    "    \n",
    "    def predict(self, X):\n",
    "        predictions = [estimator.predict(X) for estimator in self._estimators]\n",
    "        prediction = np.sum(predictions, axis=0) > (len(predictions) / 2)\n",
    "        return prediction.astype(int)"
   ]
  },
  {
   "cell_type": "code",
   "execution_count": 16,
   "metadata": {
    "collapsed": true
   },
   "outputs": [],
   "source": [
    "classifiers = []\n",
    "for i in range(100):\n",
    "    df_negative_sampled_verbose = df_negative_verbose.sample(n=len(df_positive_verbose.index), random_state=i)\n",
    "    df_sampled_verbose = pd.concat([df_positive_verbose, df_negative_sampled_verbose])\n",
    "    X = df_sampled_verbose.drop(['Amount', 'Class', 'Outlier'], axis=1).values\n",
    "    y = df_sampled_verbose['Class'].values\n",
    "    logistic = sklearn.linear_model.LogisticRegression()\n",
    "    logistic.fit(X, y)\n",
    "    classifiers += [logistic]\n",
    "\n",
    "ensemble = VotingClassifier(classifiers)"
   ]
  },
  {
   "cell_type": "code",
   "execution_count": 17,
   "metadata": {},
   "outputs": [
    {
     "name": "stdout",
     "output_type": "stream",
     "text": [
      "Result for train data:\n",
      "confusion matrix:\n",
      "[[221150   6296]\n",
      " [    35    356]]\n",
      "auc: 0.941402\n",
      "Result for test data:\n",
      "confusion matrix:\n",
      "[[55255  1607]\n",
      " [    6    94]]\n",
      "auc: 0.955869\n"
     ]
    }
   ],
   "source": [
    "print_result(X_train, y_train, ensemble.predict, 'train')\n",
    "print_result(X_test, y_test, ensemble.predict, 'test')"
   ]
  },
  {
   "cell_type": "markdown",
   "metadata": {},
   "source": [
    "## Classification by SVM with downsampling + bagging"
   ]
  },
  {
   "cell_type": "code",
   "execution_count": 18,
   "metadata": {
    "collapsed": true
   },
   "outputs": [],
   "source": [
    "classifiers = []\n",
    "for i in range(10):\n",
    "    df_negative_sampled_verbose = df_negative_verbose.sample(n=len(df_positive_verbose.index), random_state=i)\n",
    "    df_sampled_verbose = pd.concat([df_positive_verbose, df_negative_sampled_verbose])\n",
    "    X = df_sampled_verbose.drop(['Amount', 'Class', 'Outlier'], axis=1).values\n",
    "    y = df_sampled_verbose['Class'].values\n",
    "    svm = sklearn.svm.SVC()\n",
    "    svm.fit(X, y)\n",
    "    classifiers += [svm]\n",
    "\n",
    "ensemble = VotingClassifier(classifiers)"
   ]
  },
  {
   "cell_type": "code",
   "execution_count": 19,
   "metadata": {},
   "outputs": [
    {
     "name": "stdout",
     "output_type": "stream",
     "text": [
      "Result for train data:\n",
      "confusion matrix:\n",
      "[[216409  11037]\n",
      " [    29    362]]\n",
      "auc: 0.938653\n",
      "Result for test data:\n",
      "confusion matrix:\n",
      "[[53982  2880]\n",
      " [    5    95]]\n",
      "auc: 0.949676\n"
     ]
    }
   ],
   "source": [
    "print_result(X_train, y_train, ensemble.predict, 'train')\n",
    "print_result(X_test, y_test, ensemble.predict, 'test')"
   ]
  },
  {
   "cell_type": "markdown",
   "metadata": {},
   "source": [
    "# Exercise 4.\n",
    "## Hyperparameter tuning using CV"
   ]
  },
  {
   "cell_type": "code",
   "execution_count": 20,
   "metadata": {
    "collapsed": true
   },
   "outputs": [],
   "source": [
    "def grid_search(train_features, train_labels):\n",
    "    param_grid = [\n",
    "        {'C': [1, 10, 100, 1000], 'kernel': ['linear']},\n",
    "        {'C': [1, 10, 100, 1000], 'gamma': [0.001, 0.0001], 'kernel': ['rbf']},\n",
    "    ]\n",
    "    cv = sklearn.model_selection.GridSearchCV(sklearn.svm.SVC(), param_grid, n_jobs=-1)\n",
    "    cv.fit(train_features, train_labels)\n",
    "    return cv.best_estimator_"
   ]
  },
  {
   "cell_type": "code",
   "execution_count": 21,
   "metadata": {},
   "outputs": [
    {
     "data": {
      "text/plain": [
       "SVC(C=1.0, cache_size=200, class_weight=None, coef0=0.0,\n",
       "  decision_function_shape=None, degree=3, gamma='auto', kernel='rbf',\n",
       "  max_iter=-1, probability=False, random_state=None, shrinking=True,\n",
       "  tol=0.001, verbose=False)"
      ]
     },
     "execution_count": 21,
     "metadata": {},
     "output_type": "execute_result"
    }
   ],
   "source": [
    "svm = sklearn.svm.SVC()\n",
    "svm.fit(X_sampled, y_sampled)"
   ]
  },
  {
   "cell_type": "code",
   "execution_count": 22,
   "metadata": {},
   "outputs": [
    {
     "name": "stdout",
     "output_type": "stream",
     "text": [
      "Result for train data:\n",
      "confusion matrix:\n",
      "[[214799  12647]\n",
      " [    26    365]]\n",
      "auc: 0.938950\n",
      "Result for test data:\n",
      "confusion matrix:\n",
      "[[53629  3233]\n",
      " [    5    95]]\n",
      "auc: 0.946572\n"
     ]
    }
   ],
   "source": [
    "print_result(X_train, y_train, svm.predict, 'train')\n",
    "print_result(X_test, y_test, svm.predict, 'test')"
   ]
  },
  {
   "cell_type": "code",
   "execution_count": 23,
   "metadata": {},
   "outputs": [
    {
     "data": {
      "text/plain": [
       "SVC(C=1000, cache_size=200, class_weight=None, coef0=0.0,\n",
       "  decision_function_shape=None, degree=3, gamma=0.001, kernel='rbf',\n",
       "  max_iter=-1, probability=False, random_state=None, shrinking=True,\n",
       "  tol=0.001, verbose=False)"
      ]
     },
     "execution_count": 23,
     "metadata": {},
     "output_type": "execute_result"
    }
   ],
   "source": [
    "svm_cross_validated = grid_search(X_sampled, y_sampled)\n",
    "svm_cross_validated"
   ]
  },
  {
   "cell_type": "code",
   "execution_count": 24,
   "metadata": {},
   "outputs": [
    {
     "name": "stdout",
     "output_type": "stream",
     "text": [
      "Result for train data:\n",
      "confusion matrix:\n",
      "[[222201   5245]\n",
      " [    34    357]]\n",
      "auc: 0.944992\n",
      "Result for test data:\n",
      "confusion matrix:\n",
      "[[55525  1337]\n",
      " [    8    92]]\n",
      "auc: 0.948243\n"
     ]
    }
   ],
   "source": [
    "print_result(X_train, y_train, svm_cross_validated.predict, 'train')\n",
    "print_result(X_test, y_test, svm_cross_validated.predict, 'test')"
   ]
  },
  {
   "cell_type": "code",
   "execution_count": null,
   "metadata": {
    "collapsed": true
   },
   "outputs": [],
   "source": []
  }
 ],
 "metadata": {
  "kernelspec": {
   "display_name": "Python 3",
   "language": "python",
   "name": "python3"
  },
  "language_info": {
   "codemirror_mode": {
    "name": "ipython",
    "version": 3
   },
   "file_extension": ".py",
   "mimetype": "text/x-python",
   "name": "python",
   "nbconvert_exporter": "python",
   "pygments_lexer": "ipython3",
   "version": "3.6.1"
  }
 },
 "nbformat": 4,
 "nbformat_minor": 2
}
